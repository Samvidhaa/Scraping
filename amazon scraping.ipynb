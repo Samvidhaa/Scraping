{
 "cells": [
  {
   "cell_type": "code",
   "execution_count": 1,
   "id": "feb366ea",
   "metadata": {},
   "outputs": [
    {
     "name": "stdout",
     "output_type": "stream",
     "text": [
      "Requirement already satisfied: requests in c:\\users\\samvi\\anaconda3\\lib\\site-packages (2.27.1)\n",
      "Requirement already satisfied: beautifulsoup4 in c:\\users\\samvi\\anaconda3\\lib\\site-packages (4.11.1)\n",
      "Requirement already satisfied: pandas in c:\\users\\samvi\\anaconda3\\lib\\site-packages (1.4.2)\n",
      "Requirement already satisfied: urllib3<1.27,>=1.21.1 in c:\\users\\samvi\\anaconda3\\lib\\site-packages (from requests) (1.26.9)\n",
      "Requirement already satisfied: certifi>=2017.4.17 in c:\\users\\samvi\\anaconda3\\lib\\site-packages (from requests) (2021.10.8)\n",
      "Requirement already satisfied: charset-normalizer~=2.0.0 in c:\\users\\samvi\\anaconda3\\lib\\site-packages (from requests) (2.0.4)\n",
      "Requirement already satisfied: idna<4,>=2.5 in c:\\users\\samvi\\anaconda3\\lib\\site-packages (from requests) (3.3)\n",
      "Requirement already satisfied: soupsieve>1.2 in c:\\users\\samvi\\anaconda3\\lib\\site-packages (from beautifulsoup4) (2.3.1)\n",
      "Requirement already satisfied: python-dateutil>=2.8.1 in c:\\users\\samvi\\anaconda3\\lib\\site-packages (from pandas) (2.8.2)\n",
      "Requirement already satisfied: pytz>=2020.1 in c:\\users\\samvi\\anaconda3\\lib\\site-packages (from pandas) (2021.3)\n",
      "Requirement already satisfied: numpy>=1.18.5 in c:\\users\\samvi\\anaconda3\\lib\\site-packages (from pandas) (1.24.3)\n",
      "Requirement already satisfied: six>=1.5 in c:\\users\\samvi\\anaconda3\\lib\\site-packages (from python-dateutil>=2.8.1->pandas) (1.16.0)\n",
      "Note: you may need to restart the kernel to use updated packages.\n"
     ]
    }
   ],
   "source": [
    "pip install requests beautifulsoup4 pandas"
   ]
  },
  {
   "cell_type": "code",
   "execution_count": 5,
   "id": "5a9b001a",
   "metadata": {},
   "outputs": [],
   "source": [
    "import requests\n",
    "from bs4 import BeautifulSoup\n",
    "import pandas as pd\n",
    "\n",
    "# Part 1: Scraping product listing pages\n",
    "\n",
    "base_url = \"https://www.amazon.in/s\"\n",
    "search_term = \"bags\"\n",
    "pages_to_scrape = 20\n",
    "\n",
    "data = []\n",
    "\n",
    "for page in range(1, pages_to_scrape + 1):\n",
    "    params = {\n",
    "        \"k\": search_term,\n",
    "        \"crid\": \"2M096C61O4MLT\",\n",
    "        \"qid\": 1653308124,\n",
    "        \"sprefix\": \"ba,aps,283\",\n",
    "        \"ref\": f\"sr_pg_{page}\",\n",
    "        \"page\": page\n",
    "    }\n",
    "    \n",
    "    response = requests.get(base_url, params=params)\n",
    "    soup = BeautifulSoup(response.text, \"html.parser\")\n",
    "    \n",
    "    products = soup.find_all(\"div\", {\"data-component-type\": \"s-search-result\"})\n",
    "    \n",
    "    for product in products:\n",
    "        url = product.find(\"a\", class_=\"a-link-normal\")[\"href\"]\n",
    "        name = product.find(\"span\", class_=\"a-size-medium\").text.strip()\n",
    "        \n",
    "        price_element = product.find(\"span\", class_=\"a-offscreen\")\n",
    "        price = price_element.text.strip() if price_element else \"\"\n",
    "        \n",
    "        rating_element = product.find(\"span\", class_=\"a-icon-alt\")\n",
    "        rating = rating_element.text.strip().split()[0] if rating_element else \"\"\n",
    "        \n",
    "        reviews_element = product.find(\"span\", class_=\"a-size-base\")\n",
    "        reviews = reviews_element.text.strip() if reviews_element else \"\"\n",
    "        \n",
    "        data.append({\n",
    "            \"URL\": url,\n",
    "            \"Name\": name,\n",
    "            \"Price\": price,\n",
    "            \"Rating\": rating,\n",
    "            \"Reviews\": reviews\n",
    "        })\n",
    "\n",
    "# Part 2: Scraping product URLs for additional information\n",
    "\n",
    "additional_data = []\n",
    "\n",
    "for item in data[:200]:  # Limiting to 200 URLs for demonstration purposes\n",
    "    url = \"https://www.amazon.in\" + item[\"URL\"]\n",
    "    \n",
    "    response = requests.get(url)\n",
    "    soup = BeautifulSoup(response.text, \"html.parser\")\n",
    "    \n",
    "    description = soup.find(\"div\", {\"id\": \"feature-bullets\"}).text.strip() if soup.find(\"div\", {\"id\": \"feature-bullets\"}) else \"\"\n",
    "    asin = soup.find(\"th\", text=\"ASIN\").find_next_sibling(\"td\").text.strip() if soup.find(\"th\", text=\"ASIN\") else \"\"\n",
    "    product_description = soup.find(\"div\", {\"id\": \"productDescription\"}).text.strip() if soup.find(\"div\", {\"id\": \"productDescription\"}) else \"\"\n",
    "    manufacturer = soup.find(\"a\", {\"id\": \"bylineInfo\"}).text.strip() if soup.find(\"a\", {\"id\": \"bylineInfo\"}) else \"\"\n",
    "    \n",
    "    additional_data.append({\n",
    "        \"URL\": url,\n",
    "        \"Description\": description,\n",
    "        \"ASIN\": asin,\n",
    "        \"Product Description\": product_description,\n",
    "        \"Manufacturer\": manufacturer\n",
    "    })\n"
   ]
  },
  {
   "cell_type": "code",
   "execution_count": 7,
   "id": "501b31e1",
   "metadata": {},
   "outputs": [],
   "source": [
    "# Combining data \n",
    "for item in additional_data:\n",
    "    for i in range(len(data)):\n",
    "        if data[i][\"URL\"] == item[\"URL\"]:\n",
    "            data[i].update(item)\n",
    "            break\n",
    "\n",
    "# Exporting to CSV\n",
    "df = pd.DataFrame(data)\n",
    "df.to_csv(\"amazon_products.csv\", index=False)"
   ]
  },
  {
   "cell_type": "code",
   "execution_count": null,
   "id": "8e5ddddb",
   "metadata": {},
   "outputs": [],
   "source": []
  }
 ],
 "metadata": {
  "kernelspec": {
   "display_name": "Python 3 (ipykernel)",
   "language": "python",
   "name": "python3"
  },
  "language_info": {
   "codemirror_mode": {
    "name": "ipython",
    "version": 3
   },
   "file_extension": ".py",
   "mimetype": "text/x-python",
   "name": "python",
   "nbconvert_exporter": "python",
   "pygments_lexer": "ipython3",
   "version": "3.9.12"
  }
 },
 "nbformat": 4,
 "nbformat_minor": 5
}
